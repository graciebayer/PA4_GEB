{
 "cells": [
  {
   "cell_type": "markdown",
   "id": "2dd15f13",
   "metadata": {},
   "source": [
    "# CS150-01 Programming Assignment 4 - Working with Lists and Tuples"
   ]
  },
  {
   "cell_type": "markdown",
   "id": "eeb8b9d0",
   "metadata": {},
   "source": [
    "## Gracie Bayer - Professor Sarkar - Fall 2021"
   ]
  },
  {
   "cell_type": "markdown",
   "id": "c99ece29",
   "metadata": {},
   "source": [
    "### Intro to Python Programming - Deitel & Deitel"
   ]
  },
  {
   "cell_type": "markdown",
   "id": "0c0c109d",
   "metadata": {},
   "source": [
    "### a.i. `Append` function\n",
    "#### *This function allows us to append a single element to the end of the list.*"
   ]
  },
  {
   "cell_type": "code",
   "execution_count": 1,
   "id": "5c126ac6",
   "metadata": {},
   "outputs": [],
   "source": [
    "numbers=[10,20,30,40,50,60,70,80]"
   ]
  },
  {
   "cell_type": "code",
   "execution_count": 3,
   "id": "69943c7b",
   "metadata": {},
   "outputs": [
    {
     "data": {
      "text/plain": [
       "[10, 20, 30, 40, 50, 60, 70, 80, 90]"
      ]
     },
     "execution_count": 3,
     "metadata": {},
     "output_type": "execute_result"
    }
   ],
   "source": [
    "numbers.append(90)\n",
    "numbers"
   ]
  },
  {
   "cell_type": "markdown",
   "id": "7be3adaa",
   "metadata": {},
   "source": [
    "### a.ii. `extend` function\n",
    "#### *This function allows us to append several elements to the end of a list (in the form of a list).*"
   ]
  },
  {
   "cell_type": "code",
   "execution_count": 4,
   "id": "1156f207",
   "metadata": {},
   "outputs": [],
   "source": [
    "numbers=[10,20,30,40,50,60,70,80]"
   ]
  },
  {
   "cell_type": "code",
   "execution_count": 5,
   "id": "41c7153a",
   "metadata": {},
   "outputs": [
    {
     "data": {
      "text/plain": [
       "[10, 20, 30, 40, 50, 60, 70, 80, 90, 100, 110]"
      ]
     },
     "execution_count": 5,
     "metadata": {},
     "output_type": "execute_result"
    }
   ],
   "source": [
    "numbers.extend([90,100,110]) #place [list of numbers] inside (parenthesis)\n",
    "numbers"
   ]
  },
  {
   "cell_type": "markdown",
   "id": "37f45fcc",
   "metadata": {},
   "source": [
    "### a.iii. `insert` function\n",
    "#### *This function allows us to insert 1 element only into the list at any location.*"
   ]
  },
  {
   "cell_type": "code",
   "execution_count": 6,
   "id": "4c101f24",
   "metadata": {},
   "outputs": [],
   "source": [
    "numbers=[10,20,30,40,50,60,70,80]"
   ]
  },
  {
   "cell_type": "code",
   "execution_count": 11,
   "id": "9ad46c99",
   "metadata": {},
   "outputs": [
    {
     "data": {
      "text/plain": [
       "[10, 20, 30, 40, 100, 50, 60, 70, 80]"
      ]
     },
     "execution_count": 11,
     "metadata": {},
     "output_type": "execute_result"
    }
   ],
   "source": [
    "numbers.insert(4,100) #the first number is the position in the list where you're adding the element, the second number is the element itself\n",
    "numbers"
   ]
  },
  {
   "cell_type": "markdown",
   "id": "734c4598",
   "metadata": {},
   "source": [
    "### a.iv. `remove` function\n",
    "#### *This function removes an element from the list if it exists (first occurrence).*"
   ]
  },
  {
   "cell_type": "code",
   "execution_count": 12,
   "id": "02c3c6dd",
   "metadata": {},
   "outputs": [
    {
     "data": {
      "text/plain": [
       "[10, 20, 30, 40, 100, 50, 60, 70, 80]"
      ]
     },
     "execution_count": 12,
     "metadata": {},
     "output_type": "execute_result"
    }
   ],
   "source": [
    "numbers"
   ]
  },
  {
   "cell_type": "code",
   "execution_count": 13,
   "id": "1eb46057",
   "metadata": {},
   "outputs": [
    {
     "data": {
      "text/plain": [
       "[10, 20, 30, 40, 50, 60, 70, 80]"
      ]
     },
     "execution_count": 13,
     "metadata": {},
     "output_type": "execute_result"
    }
   ],
   "source": [
    "numbers.remove(100)\n",
    "numbers"
   ]
  },
  {
   "cell_type": "markdown",
   "id": "5d5655a1",
   "metadata": {},
   "source": [
    "### a.v. `count` function\n",
    "#### *This function returns how many times a particular element appears in the list.*"
   ]
  },
  {
   "cell_type": "code",
   "execution_count": 14,
   "id": "1c5c8b04",
   "metadata": {},
   "outputs": [
    {
     "data": {
      "text/plain": [
       "[10, 20, 30, 40, 50, 60, 70, 80]"
      ]
     },
     "execution_count": 14,
     "metadata": {},
     "output_type": "execute_result"
    }
   ],
   "source": [
    "numbers"
   ]
  },
  {
   "cell_type": "code",
   "execution_count": 16,
   "id": "87b6896d",
   "metadata": {},
   "outputs": [
    {
     "data": {
      "text/plain": [
       "1"
      ]
     },
     "execution_count": 16,
     "metadata": {},
     "output_type": "execute_result"
    }
   ],
   "source": [
    "numbers.count(30) #is going to tell us how many times the number \"30\" appears in our list"
   ]
  },
  {
   "cell_type": "markdown",
   "id": "01b60926",
   "metadata": {},
   "source": [
    "### a.vi. `index` function\n",
    "#### *This function returns the index of item if it exists in the list - otherwise it returns error message.*"
   ]
  },
  {
   "cell_type": "code",
   "execution_count": 2,
   "id": "12ee0a0a",
   "metadata": {},
   "outputs": [
    {
     "data": {
      "text/plain": [
       "[10, 20, 30, 40, 50, 60, 70, 80]"
      ]
     },
     "execution_count": 2,
     "metadata": {},
     "output_type": "execute_result"
    }
   ],
   "source": [
    "numbers"
   ]
  },
  {
   "cell_type": "code",
   "execution_count": 18,
   "id": "8206b01d",
   "metadata": {},
   "outputs": [
    {
     "data": {
      "text/plain": [
       "2"
      ]
     },
     "execution_count": 18,
     "metadata": {},
     "output_type": "execute_result"
    }
   ],
   "source": [
    "numbers.index(30) #this tells us the position of the number \"30\" in the list"
   ]
  },
  {
   "cell_type": "markdown",
   "id": "e359b7d0",
   "metadata": {},
   "source": [
    "### a.vii. `pop` function\n",
    "#### *This function removes an item at a specified index value from a list. It returns the item you have removed so you know what modification has been made to your list.*"
   ]
  },
  {
   "cell_type": "code",
   "execution_count": 3,
   "id": "ff79b5cb",
   "metadata": {},
   "outputs": [
    {
     "data": {
      "text/plain": [
       "[10, 20, 30, 40, 50, 60, 70, 80]"
      ]
     },
     "execution_count": 3,
     "metadata": {},
     "output_type": "execute_result"
    }
   ],
   "source": [
    "numbers"
   ]
  },
  {
   "cell_type": "code",
   "execution_count": 4,
   "id": "28f66efa",
   "metadata": {},
   "outputs": [
    {
     "data": {
      "text/plain": [
       "[10, 20, 30, 40, 50, 60, 70]"
      ]
     },
     "execution_count": 4,
     "metadata": {},
     "output_type": "execute_result"
    }
   ],
   "source": [
    "remove_80=numbers.pop(-1)\n",
    "numbers"
   ]
  },
  {
   "cell_type": "markdown",
   "id": "3058fdd5",
   "metadata": {},
   "source": [
    "### a.viii. `sorted` function\n",
    "#### *This function sorts a list without making it permanent, unlike the function 'sort'.*"
   ]
  },
  {
   "cell_type": "code",
   "execution_count": 13,
   "id": "6be440da",
   "metadata": {},
   "outputs": [],
   "source": [
    "numbers=[10,30,50,70,80,60,40,20]"
   ]
  },
  {
   "cell_type": "code",
   "execution_count": 9,
   "id": "85c39448",
   "metadata": {},
   "outputs": [
    {
     "data": {
      "text/plain": [
       "[10, 20, 30, 40, 50, 60, 70, 80]"
      ]
     },
     "execution_count": 9,
     "metadata": {},
     "output_type": "execute_result"
    }
   ],
   "source": [
    "x=sorted(numbers)\n",
    "x"
   ]
  },
  {
   "cell_type": "markdown",
   "id": "32123bd8",
   "metadata": {},
   "source": [
    "### a.ix. `copy` function\n",
    "#### *This function returns a copy of a list that is independent of the original list (it can be changed without changing the original list.*"
   ]
  },
  {
   "cell_type": "code",
   "execution_count": 16,
   "id": "36aaa058",
   "metadata": {},
   "outputs": [],
   "source": [
    "numbers=[10,20,30,40,50,60,70,80]"
   ]
  },
  {
   "cell_type": "code",
   "execution_count": 17,
   "id": "fcc2dc8d",
   "metadata": {},
   "outputs": [
    {
     "data": {
      "text/plain": [
       "[10, 20, 30, 40, 50, 60, 70, 80]"
      ]
     },
     "execution_count": 17,
     "metadata": {},
     "output_type": "execute_result"
    }
   ],
   "source": [
    "n2=numbers.copy()\n",
    "n2"
   ]
  },
  {
   "cell_type": "markdown",
   "id": "0970bb20",
   "metadata": {},
   "source": [
    "### a.x. `clear` function\n",
    "#### *This function removes all elements from the list.*"
   ]
  },
  {
   "cell_type": "code",
   "execution_count": 18,
   "id": "a8911fbd",
   "metadata": {},
   "outputs": [],
   "source": [
    "numbers.clear()"
   ]
  },
  {
   "cell_type": "code",
   "execution_count": 20,
   "id": "6c9cac75",
   "metadata": {},
   "outputs": [
    {
     "data": {
      "text/plain": [
       "[]"
      ]
     },
     "execution_count": 20,
     "metadata": {},
     "output_type": "execute_result"
    }
   ],
   "source": [
    "#we now have an empty list\n",
    "numbers"
   ]
  },
  {
   "cell_type": "markdown",
   "id": "1fe7008f",
   "metadata": {},
   "source": [
    "### a.xi. `any` function\n",
    "#### *This function returns `True` if any item in its iterable argument is `True`.*"
   ]
  },
  {
   "cell_type": "code",
   "execution_count": 22,
   "id": "2be8ff5e",
   "metadata": {},
   "outputs": [],
   "source": [
    "boolean=[True,True,False,True]"
   ]
  },
  {
   "cell_type": "code",
   "execution_count": 23,
   "id": "7e2daa7d",
   "metadata": {},
   "outputs": [
    {
     "data": {
      "text/plain": [
       "True"
      ]
     },
     "execution_count": 23,
     "metadata": {},
     "output_type": "execute_result"
    }
   ],
   "source": [
    "any(boolean)"
   ]
  },
  {
   "cell_type": "markdown",
   "id": "05477188",
   "metadata": {},
   "source": [
    "### a.xii. `filter` function\n",
    "#### *This function creates a list of elements for which a function returns true (it forms a new list that contains only elements that satisfy a certain condition).*"
   ]
  },
  {
   "cell_type": "code",
   "execution_count": 32,
   "id": "93e45367",
   "metadata": {},
   "outputs": [
    {
     "name": "stdout",
     "output_type": "stream",
     "text": [
      "[5, 15, 13, 17, 26, 29, 29, 28, 1, 10]\n"
     ]
    }
   ],
   "source": [
    "import random\n",
    "def greater_eight(x):\n",
    "    if x>8:\n",
    "        return x\n",
    "numbers=[random.randrange(1,30) for i in range(10)]\n",
    "print(numbers)"
   ]
  },
  {
   "cell_type": "code",
   "execution_count": 33,
   "id": "309eb502",
   "metadata": {},
   "outputs": [
    {
     "data": {
      "text/plain": [
       "[15, 13, 17, 26, 29, 29, 28, 10]"
      ]
     },
     "execution_count": 33,
     "metadata": {},
     "output_type": "execute_result"
    }
   ],
   "source": [
    "list(filter(greater_eight,numbers))"
   ]
  },
  {
   "cell_type": "markdown",
   "id": "0aaafbd0",
   "metadata": {},
   "source": [
    "### a.xiii. `list` function\n",
    "#### *This function creates a list containing enumerate's results.*"
   ]
  },
  {
   "cell_type": "code",
   "execution_count": 34,
   "id": "cc14ec7c",
   "metadata": {},
   "outputs": [],
   "source": [
    "colors=['blue','purple','pink']"
   ]
  },
  {
   "cell_type": "code",
   "execution_count": 35,
   "id": "3b2f59d0",
   "metadata": {},
   "outputs": [
    {
     "data": {
      "text/plain": [
       "[(0, 'blue'), (1, 'purple'), (2, 'pink')]"
      ]
     },
     "execution_count": 35,
     "metadata": {},
     "output_type": "execute_result"
    }
   ],
   "source": [
    "list(enumerate(colors))"
   ]
  },
  {
   "cell_type": "markdown",
   "id": "6969776b",
   "metadata": {},
   "source": [
    "### a.xiv. `map` function\n",
    "#### *This function applies a function to all the items in an input_list. map(function_to_apply, list_of_inputs). It allows you to process and transform all the items in an iterable without using an explicit for loop.*"
   ]
  },
  {
   "cell_type": "code",
   "execution_count": 36,
   "id": "b87ea2a5",
   "metadata": {},
   "outputs": [
    {
     "name": "stdout",
     "output_type": "stream",
     "text": [
      "[19, 10, 17, 19, 15, 27, 3, 23, 15, 2]\n"
     ]
    }
   ],
   "source": [
    "import random\n",
    "def greater_eight(x):\n",
    "    if x>8:\n",
    "        return x\n",
    "numbers=[random.randrange(1,30) for i in range(10)]\n",
    "print(numbers)"
   ]
  },
  {
   "cell_type": "code",
   "execution_count": 39,
   "id": "129003a0",
   "metadata": {},
   "outputs": [
    {
     "data": {
      "text/plain": [
       "[19, 10, 17, 19, 15, 27, None, 23, 15, None]"
      ]
     },
     "execution_count": 39,
     "metadata": {},
     "output_type": "execute_result"
    }
   ],
   "source": [
    "list(map(greater_eight,numbers)) #when runned, this places the word \"None\" where a number less than 8 would be"
   ]
  },
  {
   "cell_type": "markdown",
   "id": "3b1b275e",
   "metadata": {},
   "source": [
    "### b.i. `cmp` function\n",
    "#### *This function compares two integers and returns -1, 0, 1 according to comparison - Note: only works in Python2, however you can define it in Python3.*"
   ]
  },
  {
   "cell_type": "code",
   "execution_count": 40,
   "id": "34a44289",
   "metadata": {},
   "outputs": [
    {
     "name": "stdout",
     "output_type": "stream",
     "text": [
      "0\n"
     ]
    }
   ],
   "source": [
    "a=[1,2,3]\n",
    "b=[1,2,3]\n",
    "def cmp(a,b):\n",
    "    return(a>b)-(a<b)\n",
    "c=cmp(a,b)\n",
    "print(c)"
   ]
  },
  {
   "cell_type": "markdown",
   "id": "ca4615aa",
   "metadata": {},
   "source": [
    "### b.ii. `len` function\n",
    "#### *This function, is used along with the 'sum' function, to calculate the mean \"by hand\". 'Sum' calculates the total of the grades, and `len` returns the number of grades.*"
   ]
  },
  {
   "cell_type": "code",
   "execution_count": 41,
   "id": "d6ab0217",
   "metadata": {},
   "outputs": [],
   "source": [
    "grades=[86,90,92,97,58,69]"
   ]
  },
  {
   "cell_type": "code",
   "execution_count": 42,
   "id": "19f63e56",
   "metadata": {},
   "outputs": [
    {
     "data": {
      "text/plain": [
       "6"
      ]
     },
     "execution_count": 42,
     "metadata": {},
     "output_type": "execute_result"
    }
   ],
   "source": [
    "len(grades)"
   ]
  },
  {
   "cell_type": "markdown",
   "id": "6d7c3886",
   "metadata": {},
   "source": [
    "### b.iii. `max` function\n",
    "#### *This function, which is pretty self-explanatory, finds the maximum value in a collection of values.*"
   ]
  },
  {
   "cell_type": "code",
   "execution_count": 44,
   "id": "95f3e94c",
   "metadata": {},
   "outputs": [
    {
     "data": {
      "text/plain": [
       "80"
      ]
     },
     "execution_count": 44,
     "metadata": {},
     "output_type": "execute_result"
    }
   ],
   "source": [
    "max(10,30,50,70,80,60,40,20)"
   ]
  },
  {
   "cell_type": "markdown",
   "id": "5fe3656b",
   "metadata": {},
   "source": [
    "### b.iv. `tuple(seq)` function\n",
    "#### *This function converts a list into tuple. Tuple sequences are immutable - they cannot be modified.*"
   ]
  },
  {
   "cell_type": "code",
   "execution_count": 47,
   "id": "8d7044b3",
   "metadata": {},
   "outputs": [],
   "source": [
    "numbers=[10,20,30,40,50,60,70,80]"
   ]
  },
  {
   "cell_type": "code",
   "execution_count": 48,
   "id": "6a3079d7",
   "metadata": {},
   "outputs": [
    {
     "data": {
      "text/plain": [
       "(10, 20, 30, 40, 50, 60, 70, 80)"
      ]
     },
     "execution_count": 48,
     "metadata": {},
     "output_type": "execute_result"
    }
   ],
   "source": [
    "tuple(numbers)"
   ]
  }
 ],
 "metadata": {
  "kernelspec": {
   "display_name": "Python 3",
   "language": "python",
   "name": "python3"
  },
  "language_info": {
   "codemirror_mode": {
    "name": "ipython",
    "version": 3
   },
   "file_extension": ".py",
   "mimetype": "text/x-python",
   "name": "python",
   "nbconvert_exporter": "python",
   "pygments_lexer": "ipython3",
   "version": "3.8.8"
  }
 },
 "nbformat": 4,
 "nbformat_minor": 5
}
